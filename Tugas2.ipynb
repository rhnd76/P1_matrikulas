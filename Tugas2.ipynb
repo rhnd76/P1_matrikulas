{
  "nbformat": 4,
  "nbformat_minor": 0,
  "metadata": {
    "colab": {
      "name": "Tugas2.ipynb",
      "provenance": [],
      "authorship_tag": "ABX9TyMD6RAilWfpuygaAKVn2Ivn",
      "include_colab_link": true
    },
    "kernelspec": {
      "name": "python3",
      "display_name": "Python 3"
    },
    "language_info": {
      "name": "python"
    }
  },
  "cells": [
    {
      "cell_type": "markdown",
      "metadata": {
        "id": "view-in-github",
        "colab_type": "text"
      },
      "source": [
        "<a href=\"https://colab.research.google.com/github/rhnd76/PCVK_Matrikulasi/blob/main/Tugas2.ipynb\" target=\"_parent\"><img src=\"https://colab.research.google.com/assets/colab-badge.svg\" alt=\"Open In Colab\"/></a>"
      ]
    },
    {
      "cell_type": "code",
      "execution_count": null,
      "metadata": {
        "id": "QgHwl8W8Vbl8"
      },
      "outputs": [],
      "source": [
        "# TUGAS 2\n",
        "\n",
        "# 1. Apakah perbedaan gambar yang ditampilkan tanpa dan dengan matplotlib?\n",
        "#   Matplotlib sendiri memiliki arti pada gambar dengan matplotib memfisualisasi gambang dengan 2d dan 3d dan melakukan visualisasi data seperti membuat plot grafik untuk satu sumbu atau lebih. \n",
        "# 2. Apakah perbedaan dan pengaruhnya pembuatan black image antara tipe data int16 dan int32?  \n",
        "#   Perbedaannya adalah rentang kapasitas penyimpanan data\n",
        "#   range Int16 -- (-32,768 to +32,767)  \n",
        "#   range Int32 -- (-2,147,483,648 to +2,147,483,647)\n",
        "# 3. Angka-angka yang terdapat pada reshape seperti (-1,1,2) adalah termasuk bilangan bulat, maka hasilnya akan membentuk garis dan membentuk 1 diagonal dengan panjang tersebut. Dalam hal ini, nilai disimpulkan dari panjang array tersebut.\n",
        "# 4. fungsi deklarasi import tersebut antara lain, membaca, menampilkan, dan mengkonversi ke hitam putih sebuah citra. Pada google colab upload image bebas dengan (berformat jpg/png). \n",
        "# 5. Apakah kegunaan “skimage import io” pada potongan kode soal nomor 4\n",
        "#   Skimage sendiri merupakan library pengolah gambar Python yang bekerja dengan numpy array serta merupakan kumpulan algoritma untuk pemrosesan gambar."
      ]
    }
  ]
}